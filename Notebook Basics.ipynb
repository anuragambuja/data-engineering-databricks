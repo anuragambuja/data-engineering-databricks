{
 "cells": [
  {
   "cell_type": "code",
   "execution_count": 0,
   "metadata": {
    "application/vnd.databricks.v1+cell": {
     "cellMetadata": {
      "byteLimit": 2048000,
      "rowLimit": 10000
     },
     "inputWidgets": {},
     "nuid": "c22795b2-066d-4420-84fa-6ac1c1aafe0a",
     "showTitle": false,
     "tableResultSettingsMap": {},
     "title": ""
    }
   },
   "outputs": [],
   "source": [
    "%sql\n",
    "-- Magic Commands\n",
    "\n",
    "-- %python\n",
    "-- %sql\n",
    "-- %md\n",
    "-- %md-sandbox\n",
    "-- %run ./Includes/Setup\n",
    "-- %fs ls 'databricks-datasets' #\n",
    "-- files = dbutils.fs.ls('/databricks-datasets')\n",
    "-- print(files)\n",
    "-- display(files)\n",
    "-- dbutils.help() \n",
    "-- dbutils.fs.help()"
   ]
  },
  {
   "cell_type": "code",
   "execution_count": 0,
   "metadata": {
    "application/vnd.databricks.v1+cell": {
     "cellMetadata": {
      "byteLimit": 2048000,
      "rowLimit": 10000
     },
     "inputWidgets": {},
     "nuid": "018fa003-56f8-4b86-873f-13d1302a4d20",
     "showTitle": false,
     "tableResultSettingsMap": {},
     "title": ""
    }
   },
   "outputs": [],
   "source": [
    "%sql\n",
    "USE CATALOG hive_metastore;\n",
    "\n",
    "-- DESCRIBE DETAIL table_name;\n",
    "-- DESCRIBE HISTORY table_name;\n",
    "-- DESCRIBE DATABASE EXTENDED new_default;\n",
    "-- RESTORE TABLE employees TO VERSION AS OF 5;\n",
    "-- OPTIMIZE employees ZORDER BY id;\n",
    "-- VACUUM employees [RETAIN 0 HOURS];\n",
    "\n",
    "-- %fs ls 'dbfs:/user/hive/warehouse/employees/_delta_log'\n",
    "-- %fs head 'dbfs:/user/hive/warehouse/employees/_delta_log/00000000000000000005.json'\n",
    "-- SET spark.databricks.delta.retentionDurationCheck.enabled = false;"
   ]
  },
  {
   "cell_type": "code",
   "execution_count": 0,
   "metadata": {
    "application/vnd.databricks.v1+cell": {
     "cellMetadata": {
      "byteLimit": 2048000,
      "implicitDf": true,
      "rowLimit": 10000
     },
     "inputWidgets": {},
     "nuid": "f8cd94e0-f52f-41ad-8594-8b845d7190dc",
     "showTitle": false,
     "tableResultSettingsMap": {},
     "title": ""
    }
   },
   "outputs": [],
   "source": [
    "%sql\n",
    "CREATE TABLE employees\n",
    "  (id INT, name STRING, salary DOUBLE);\n",
    "  -- USING delta  # default table type\n",
    "\n",
    "INSERT INTO employees\n",
    "VALUES \n",
    "  (1, \"Adam\", 3500.0),\n",
    "  (2, \"Sarah\", 4020.5);\n",
    "\n",
    "INSERT INTO employees\n",
    "VALUES\n",
    "  (3, \"John\", 2999.3),\n",
    "  (4, \"Thomas\", 4000.3);\n",
    "\n",
    "INSERT INTO employees\n",
    "VALUES\n",
    "  (5, \"Anna\", 2500.0);\n",
    "\n",
    "INSERT INTO employees\n",
    "VALUES\n",
    "  (6, \"Kim\", 6200.3);\n",
    "\n",
    "SELECT * FROM employees;\n",
    "\n",
    "DESCRIBE DETAIL employees;\n",
    "-- %fs ls 'dbfs:/user/hive/warehouse/employees'\n",
    "\n",
    "UPDATE employees \n",
    "SET salary = salary + 100\n",
    "WHERE name LIKE \"A%\";\n",
    "\n",
    "DESCRIBE HISTORY employees;\n",
    "--  %fs ls 'dbfs:/user/hive/warehouse/employees/_delta_log'\n",
    "-- %fs head 'dbfs:/user/hive/warehouse/employees/_delta_log/00000000000000000005.json'"
   ]
  },
  {
   "cell_type": "code",
   "execution_count": 0,
   "metadata": {
    "application/vnd.databricks.v1+cell": {
     "cellMetadata": {
      "byteLimit": 2048000,
      "rowLimit": 10000
     },
     "inputWidgets": {},
     "nuid": "63544197-873d-47e0-af08-d560b48c56e7",
     "showTitle": false,
     "tableResultSettingsMap": {},
     "title": ""
    }
   },
   "outputs": [],
   "source": [
    "%sql\n",
    "-- SELECT * FROM employees VERSION AS OF 4;\n",
    "-- SELECT * FROM employees@v4\n",
    "-- DELETE FROM employees;\n",
    "-- SELECT * FROM employees;\n",
    "-- RESTORE TABLE employees TO VERSION AS OF 5;\n",
    "-- SELECT * FROM employees;\n",
    "-- DESCRIBE HISTORY employees\n",
    "-- DESCRIBE DETAIL employees; \n",
    "-- OPTIMIZE employees ZORDER BY id;\n",
    "-- DESCRIBE DETAIL employees;\n",
    "-- DESCRIBE HISTORY employees;\n"
   ]
  },
  {
   "cell_type": "code",
   "execution_count": 0,
   "metadata": {
    "application/vnd.databricks.v1+cell": {
     "cellMetadata": {
      "byteLimit": 2048000,
      "rowLimit": 10000
     },
     "inputWidgets": {},
     "nuid": "f86f4f83-4701-48fa-9a46-2d5c68e65c75",
     "showTitle": false,
     "tableResultSettingsMap": {},
     "title": ""
    }
   },
   "outputs": [],
   "source": [
    "%sql\n",
    "-- %fs ls 'dbfs:/user/hive/warehouse/employees'\n",
    "-- VACUUM employees;\n",
    "-- VACUUM employees RETAIN 0 HOURS; -- throws error as the retenstion is 7 by default\n",
    "\n",
    "-- %fs ls 'dbfs:/user/hive/warehouse/employees'\n",
    "-- SET spark.databricks.delta.retentionDurationCheck.enabled = false;\n",
    "\n",
    "-- VACUUM employees RETAIN 0 HOURS\n",
    "-- SELECT * FROM employees@v1\n",
    "-- DROP TABLE employees;\n",
    "-- SELECT * FROM employees\n",
    "--  %fs ls 'dbfs:/user/hive/warehouse/employees'\n"
   ]
  },
  {
   "cell_type": "code",
   "execution_count": 0,
   "metadata": {
    "application/vnd.databricks.v1+cell": {
     "cellMetadata": {
      "byteLimit": 2048000,
      "rowLimit": 10000
     },
     "inputWidgets": {},
     "nuid": "98b44a9a-786c-4e75-bc12-4cb019d5c9c5",
     "showTitle": false,
     "tableResultSettingsMap": {},
     "title": ""
    }
   },
   "outputs": [],
   "source": [
    "%sql\n",
    "USE CATALOG hive_metastore;\n",
    "\n",
    "-- CREATE TABLE managed_default\n",
    "--   (width INT, length INT, height INT);\n",
    "\n",
    "-- INSERT INTO managed_default VALUES (3 INT, 2 INT, 1 INT);\n",
    "\n",
    "-- DESCRIBE EXTENDED managed_default;\n",
    "\n",
    "CREATE TABLE external_default\n",
    "  (width INT, length INT, height INT)\n",
    "LOCATION 'dbfs:/mnt/demo/external_default';\n",
    "  \n",
    "INSERT INTO external_default\n",
    "VALUES (3 INT, 2 INT, 1 INT);\n",
    "\n",
    "\n",
    "-- DROP TABLE managed_default;\n",
    "-- %fs ls 'dbfs:/user/hive/warehouse/managed_default'\n",
    "\n",
    "-- DROP TABLE external_default;\n",
    "-- %fs ls 'dbfs:/mnt/demo/external_default'"
   ]
  },
  {
   "cell_type": "code",
   "execution_count": 0,
   "metadata": {
    "application/vnd.databricks.v1+cell": {
     "cellMetadata": {
      "byteLimit": 2048000,
      "rowLimit": 10000
     },
     "inputWidgets": {},
     "nuid": "547c4e29-5928-4c7e-bea3-3b40cf434e3a",
     "showTitle": false,
     "tableResultSettingsMap": {},
     "title": ""
    }
   },
   "outputs": [],
   "source": [
    "%sql\n",
    "-- CREATE SCHEMA new_default;\n",
    "-- DESCRIBE DATABASE EXTENDED new_default;\n",
    "\n",
    "-- USE new_default;\n",
    "\n",
    "-- CREATE TABLE managed_new_default\n",
    "--   (width INT, length INT, height INT);\n",
    "  \n",
    "-- INSERT INTO managed_new_default VALUES (3 INT, 2 INT, 1 INT);\n",
    "\n",
    "-- CREATE TABLE external_new_default\n",
    "--   (width INT, length INT, height INT)\n",
    "-- LOCATION 'dbfs:/mnt/demo/external_new_default';\n",
    "  \n",
    "-- INSERT INTO external_new_default VALUES (3 INT, 2 INT, 1 INT);\n",
    "\n",
    "DESCRIBE EXTENDED managed_new_default;\n",
    "DESCRIBE EXTENDED external_new_default;\n",
    "\n",
    "-- SELECT * FROM external_new_default;\n",
    "\n",
    "-- DROP TABLE managed_new_default;\n",
    "-- DROP TABLE external_new_default;\n",
    "\n",
    "-- %fs ls 'dbfs:/user/hive/warehouse/new_default.db/managed_new_default'\n",
    "-- %fs ls 'dbfs:/mnt/demo/external_new_default'"
   ]
  },
  {
   "cell_type": "code",
   "execution_count": 0,
   "metadata": {
    "application/vnd.databricks.v1+cell": {
     "cellMetadata": {
      "byteLimit": 2048000,
      "rowLimit": 10000
     },
     "inputWidgets": {},
     "nuid": "c15d5b5f-ae97-42ed-be04-72816556eeb4",
     "showTitle": false,
     "tableResultSettingsMap": {},
     "title": ""
    }
   },
   "outputs": [],
   "source": [
    "%sql\n",
    "-- CREATE SCHEMA custom \n",
    "-- LOCATION 'dbfs:/Shared/schemas/custom.db';\n",
    "\n",
    "-- DESCRIBE DATABASE EXTENDED custom;\n",
    "\n",
    "-- USE custom;\n",
    "\n",
    "-- CREATE TABLE managed_custom\n",
    "--   (width INT, length INT, height INT);\n",
    "  \n",
    "-- INSERT INTO managed_custom\n",
    "-- VALUES (3 INT, 2 INT, 1 INT);\n",
    "\n",
    "-- CREATE TABLE external_custom\n",
    "--   (width INT, length INT, height INT)\n",
    "-- LOCATION 'dbfs:/mnt/demo/external_custom';\n",
    "  \n",
    "-- INSERT INTO external_custom\n",
    "-- VALUES (3 INT, 2 INT, 1 INT);\n",
    "\n",
    "-- DESCRIBE EXTENDED managed_custom;\n",
    "-- DESCRIBE EXTENDED external_custom;\n",
    "\n",
    "-- DROP TABLE managed_custom;\n",
    "-- DROP TABLE external_custom;\n",
    "\n",
    "-- %fs ls 'dbfs:/Shared/schemas/custom.db/managed_custom'\n",
    "-- %fs ls 'dbfs:/mnt/demo/external_custom'\n"
   ]
  },
  {
   "cell_type": "code",
   "execution_count": 0,
   "metadata": {
    "application/vnd.databricks.v1+cell": {
     "cellMetadata": {
      "byteLimit": 2048000,
      "rowLimit": 10000
     },
     "inputWidgets": {},
     "nuid": "28306141-4ba9-4749-a9a3-cfcd86b1fcda",
     "showTitle": false,
     "tableResultSettingsMap": {},
     "title": ""
    }
   },
   "outputs": [],
   "source": [
    "%sql\n",
    "-- ### 1. VIEWS  ####\n",
    "\n",
    "USE CATALOG hive_metastore;\n",
    "\n",
    "CREATE TABLE IF NOT EXISTS smartphones\n",
    "(id INT, name STRING, brand STRING, year INT);\n",
    "\n",
    "INSERT INTO smartphones\n",
    "VALUES (1, 'iPhone 14', 'Apple', 2022),\n",
    "      (2, 'iPhone 13', 'Apple', 2021),\n",
    "      (3, 'iPhone 6', 'Apple', 2014),\n",
    "      (4, 'iPad Air', 'Apple', 2013),\n",
    "      (5, 'Galaxy S22', 'Samsung', 2022),\n",
    "      (6, 'Galaxy Z Fold', 'Samsung', 2022),\n",
    "      (7, 'Galaxy S9', 'Samsung', 2016),\n",
    "      (8, '12 Pro', 'Xiaomi', 2022),\n",
    "      (9, 'Redmi 11T Pro', 'Xiaomi', 2022),\n",
    "      (10, 'Redmi Note 11', 'Xiaomi', 2021);\n",
    "\n",
    "-- SHOW TABLES;\n",
    "\n",
    "CREATE VIEW view_apple_phones\n",
    "AS  SELECT * \n",
    "    FROM smartphones \n",
    "    WHERE brand = 'Apple';\n",
    "\n",
    "SELECT * FROM view_apple_phones;\n",
    "\n",
    "CREATE TEMP VIEW temp_view_phones_brands\n",
    "AS  SELECT DISTINCT brand\n",
    "    FROM smartphones;\n",
    "\n",
    "SELECT * FROM temp_view_phones_brands;\n",
    "\n",
    "-- CREATE GLOBAL TEMP VIEW global_temp_view_latest_phones\n",
    "-- AS SELECT * FROM smartphones\n",
    "--     WHERE year > 2020\n",
    "--     ORDER BY year DESC;\n",
    "\n",
    "SELECT * FROM global_temp.global_temp_view_latest_phones;\n",
    "\n",
    "-- SHOW TABLES;\n",
    "SHOW TABLES IN global_temp;\n",
    "\n",
    "DROP TABLE smartphones;\n",
    "DROP VIEW view_apple_phones;\n",
    "DROP VIEW global_temp.global_temp_view_latest_phones;\n"
   ]
  },
  {
   "cell_type": "code",
   "execution_count": 0,
   "metadata": {
    "application/vnd.databricks.v1+cell": {
     "cellMetadata": {
      "byteLimit": 2048000,
      "rowLimit": 10000
     },
     "inputWidgets": {},
     "nuid": "09db565c-c096-4637-85c7-25fd36520ca9",
     "showTitle": false,
     "tableResultSettingsMap": {},
     "title": ""
    }
   },
   "outputs": [],
   "source": [
    "%run ./Includes/Copy-Datasets"
   ]
  },
  {
   "cell_type": "code",
   "execution_count": 0,
   "metadata": {
    "application/vnd.databricks.v1+cell": {
     "cellMetadata": {
      "byteLimit": 2048000,
      "rowLimit": 10000
     },
     "inputWidgets": {},
     "nuid": "a92c8423-4fa6-41a3-9f71-f363fe2e94c7",
     "showTitle": false,
     "tableResultSettingsMap": {},
     "title": ""
    }
   },
   "outputs": [],
   "source": [
    "%python\n",
    "files = dbutils.fs.ls(f\"{dataset_bookstore}/customers-json\")\n",
    "display(files)\n",
    "\n",
    "data_source_uri = \"s3://dalhussein-courses/datasets/bookstore/v1/\"\n",
    "dataset_bookstore = 'dbfs:/mnt/demo-datasets/bookstore'\n",
    "data_catalog = 'hive_metastore'\n",
    "spark.conf.set(f\"dataset.bookstore\", dataset_bookstore)\n",
    "spark.conf.set(\"fs.s3a.endpoint\", \"s3.eu-west-3.amazonaws.com\")\n",
    "spark.conf.set(\"fs.s3a.aws.credentials.provider\", \"org.apache.hadoop.fs.s3a.AnonymousAWSCredentialsProvider\")"
   ]
  },
  {
   "cell_type": "code",
   "execution_count": 0,
   "metadata": {
    "application/vnd.databricks.v1+cell": {
     "cellMetadata": {
      "byteLimit": 2048000,
      "rowLimit": 10000
     },
     "inputWidgets": {},
     "nuid": "8a1bf136-d50a-41e3-8af4-51dcea3eab6c",
     "showTitle": false,
     "tableResultSettingsMap": {},
     "title": ""
    }
   },
   "outputs": [],
   "source": [
    "%sql\n",
    "-- SELECT * FROM json.`${dataset.bookstore}/customers-json/export_001.json`;\n",
    "-- SELECT * FROM json.`${dataset.bookstore}/customers-json/export_*.json`;\n",
    "-- SELECT *, input_file_name() source_file FROM json.`${dataset.bookstore}/customers-json`;\n",
    "-- SELECT * FROM text.`${dataset.bookstore}/customers-json`;\n",
    "-- SELECT * FROM binaryFile.`${dataset.bookstore}/customers-json`;\n",
    "\n",
    "-- SELECT * FROM csv.`${dataset.bookstore}/books-csv`;\n",
    "-- CREATE TABLE IF NOT EXISTS books_csv\n",
    "--   (book_id STRING, title STRING, author STRING, category STRING, price DOUBLE)\n",
    "-- USING CSV\n",
    "-- OPTIONS (\n",
    "--   header = \"true\",\n",
    "--   delimiter = \";\"\n",
    "-- )\n",
    "-- LOCATION \"${dataset.bookstore}/books-csv\";\n",
    "-- SELECT * FROM books_csv;\n",
    "-- DESCRIBE EXTENDED books_csv;\n",
    "\n",
    "\n",
    "-- %python\n",
    "-- files = dbutils.fs.ls(f\"{dataset_bookstore}/books-csv\")\n",
    "-- display(files)\n",
    "\n",
    "-- %python\n",
    "-- (spark.read\n",
    "--         .table(\"books_csv\")\n",
    "--       .write\n",
    "--         .mode(\"append\")\n",
    "--         .format(\"csv\")\n",
    "--         .option('header', 'true')\n",
    "--         .option('delimiter', ';')\n",
    "--         .save(f\"{dataset_bookstore}/books-csv\"))\n",
    "\n",
    "\n",
    "-- %python\n",
    "-- files = dbutils.fs.ls(f\"{dataset_bookstore}/books-csv\")\n",
    "-- display(files)\n",
    "\n",
    "-- SELECT COUNT(*) FROM books_csv;\n",
    "-- REFRESH TABLE books_csv;\n",
    "-- SELECT COUNT(*) FROM books_csv;\n",
    "\n",
    "\n",
    "-- CREATE TABLE customers AS SELECT * FROM json.`${dataset.bookstore}/customers-json`;\n",
    "-- DESCRIBE EXTENDED customers;\n",
    "\n",
    "-- CREATE TABLE books_unparsed AS SELECT * FROM csv.`${dataset.bookstore}/books-csv`;\n",
    "-- SELECT * FROM books_unparsed;\n",
    "\n",
    "-- CREATE TEMP VIEW books_tmp_vw\n",
    "--    (book_id STRING, title STRING, author STRING, category STRING, price DOUBLE)\n",
    "-- USING CSV\n",
    "-- OPTIONS (\n",
    "--   path = \"${dataset.bookstore}/books-csv/export_*.csv\",\n",
    "--   header = \"true\",\n",
    "--   delimiter = \";\"\n",
    "-- );\n",
    "-- CREATE TABLE books AS SELECT * FROM books_tmp_vw;\n",
    "-- SELECT * FROM books;\n",
    "\n",
    "-- DESCRIBE EXTENDED books;\n"
   ]
  },
  {
   "cell_type": "code",
   "execution_count": 0,
   "metadata": {
    "application/vnd.databricks.v1+cell": {
     "cellMetadata": {
      "byteLimit": 2048000,
      "rowLimit": 10000
     },
     "inputWidgets": {},
     "nuid": "d948ecd7-0df2-47fb-9f17-576f86bfad67",
     "showTitle": false,
     "tableResultSettingsMap": {},
     "title": ""
    }
   },
   "outputs": [],
   "source": [
    "%sql\n",
    "-- CREATE TABLE orders AS SELECT * FROM parquet.`${dataset.bookstore}/orders`;\n",
    "-- SELECT * FROM orders;\n",
    "\n",
    "-- CREATE OR REPLACE TABLE orders AS SELECT * FROM parquet.`${dataset.bookstore}/orders`;\n",
    "-- DESCRIBE HISTORY orders;\n",
    "-- INSERT OVERWRITE orders SELECT * FROM parquet.`${dataset.bookstore}/orders`;\n",
    "-- DESCRIBE HISTORY orders;\n",
    "-- INSERT OVERWRITE orders SELECT *, current_timestamp() FROM parquet.`${dataset.bookstore}/orders`;\n",
    "\n",
    "-- INSERT INTO orders SELECT * FROM parquet.`${dataset.bookstore}/orders-new`;\n",
    "-- SELECT count(*) FROM orders;\n",
    "\n",
    "\n",
    "-- CREATE OR REPLACE TEMP VIEW customers_updates AS \n",
    "-- SELECT * FROM json.`${dataset.bookstore}/customers-json-new`;\n",
    "\n",
    "-- MERGE INTO customers c\n",
    "-- USING customers_updates u\n",
    "-- ON c.customer_id = u.customer_id\n",
    "-- WHEN MATCHED AND c.email IS NULL AND u.email IS NOT NULL THEN\n",
    "--   UPDATE SET email = u.email, updated = u.updated\n",
    "-- WHEN NOT MATCHED THEN INSERT *;\n",
    "\n",
    "-- CREATE OR REPLACE TEMP VIEW books_updates\n",
    "--    (book_id STRING, title STRING, author STRING, category STRING, price DOUBLE)\n",
    "-- USING CSV\n",
    "-- OPTIONS (\n",
    "--   path = \"${dataset.bookstore}/books-csv-new\",\n",
    "--   header = \"true\",\n",
    "--   delimiter = \";\"\n",
    "-- );\n",
    "\n",
    "-- SELECT * FROM books_updates;\n",
    "\n",
    "-- MERGE INTO books b\n",
    "-- USING books_updates u\n",
    "-- ON b.book_id = u.book_id AND b.title = u.title\n",
    "-- WHEN NOT MATCHED AND u.category = 'Computer Science' THEN \n",
    "--   INSERT *;"
   ]
  },
  {
   "cell_type": "code",
   "execution_count": 0,
   "metadata": {
    "application/vnd.databricks.v1+cell": {
     "cellMetadata": {
      "byteLimit": 2048000,
      "rowLimit": 10000
     },
     "inputWidgets": {},
     "nuid": "9c8c3f00-1f23-4b4d-8bf0-400666282065",
     "showTitle": false,
     "tableResultSettingsMap": {},
     "title": ""
    }
   },
   "outputs": [],
   "source": [
    "%sql\n",
    "-- SELECT * FROM customers;\n",
    "-- DESCRIBE customers;\n",
    "\n",
    "-- SELECT customer_id, profile:first_name, profile:address:country FROM customers;\n",
    "-- SELECT from_json(profile) AS profile_struct FROM customers;\n",
    "-- SELECT profile FROM customers LIMIT 1;\n",
    "\n",
    "-- ## Get schema of table \n",
    "-- CREATE OR REPLACE TEMP VIEW parsed_customers AS\n",
    "--   SELECT customer_id, from_json(profile, schema_of_json('{\"first_name\":\"Thomas\",\"last_name\":\"Lane\",\"gender\":\"Male\",\"address\":{\"street\":\"06 Boulevard Victor Hugo\",\"city\":\"Paris\",\"country\":\"France\"}}')) AS profile_struct\n",
    "--   FROM customers;  \n",
    "-- SELECT * FROM parsed_customers;\n",
    "\n",
    "-- DESCRIBE parsed_customers;\n",
    "-- SELECT customer_id, profile_struct.first_name, profile_struct.address.country FROM parsed_customers;\n",
    "-- CREATE OR REPLACE TEMP VIEW customers_final AS SELECT customer_id, profile_struct.* FROM parsed_customers;\n",
    "-- SELECT * FROM customers_final;\n",
    "\n",
    "-- SELECT order_id, customer_id, books FROM orders;\n",
    "-- SELECT order_id, customer_id, explode(books) AS book FROM orders;\n",
    "\n",
    "-- Collecting Rows\n",
    "-- SELECT customer_id,\n",
    "--   collect_set(order_id) AS orders_set,\n",
    "--   collect_set(books.book_id) AS books_set\n",
    "-- FROM orders\n",
    "-- GROUP BY customer_id;\n",
    "\n",
    "-- Flatten Arrays\n",
    "-- SELECT customer_id,\n",
    "--   collect_set(books.book_id) As before_flatten,\n",
    "--   array_distinct(flatten(collect_set(books.book_id))) AS after_flatten\n",
    "-- FROM orders\n",
    "-- GROUP BY customer_id;\n",
    "\n",
    "-- Join Operations\n",
    "-- CREATE OR REPLACE VIEW orders_enriched AS\n",
    "-- SELECT *\n",
    "-- FROM (\n",
    "--   SELECT *, explode(books) AS book \n",
    "--   FROM orders) o\n",
    "-- INNER JOIN books b\n",
    "-- ON o.book.book_id = b.book_id;\n",
    "-- SELECT * FROM orders_enriched;\n",
    "\n",
    "-- Set Operations\n",
    "-- CREATE OR REPLACE TEMP VIEW orders_updates AS SELECT * FROM parquet.`${dataset.bookstore}/orders-new`;\n",
    "\n",
    "-- SELECT * FROM orders \n",
    "-- UNION \n",
    "-- SELECT * FROM orders_updates ;\n",
    "\n",
    "-- SELECT * FROM orders \n",
    "-- INTERSECT \n",
    "-- SELECT * FROM orders_updates;\n",
    "\n",
    "-- SELECT * FROM orders \n",
    "-- MINUS \n",
    "-- SELECT * FROM orders_updates;\n",
    "\n",
    "-- CREATE OR REPLACE TABLE transactions AS\n",
    "-- SELECT * FROM (\n",
    "--   SELECT\n",
    "--     customer_id,\n",
    "--     book.book_id AS book_id,\n",
    "--     book.quantity AS quantity\n",
    "--   FROM orders_enriched\n",
    "-- ) PIVOT (\n",
    "--   sum(quantity) FOR book_id in (\n",
    "--     'B01', 'B02', 'B03', 'B04', 'B05', 'B06',\n",
    "--     'B07', 'B08', 'B09', 'B10', 'B11', 'B12'\n",
    "--   )\n",
    "-- );\n",
    "-- SELECT * FROM transactions;\n"
   ]
  },
  {
   "cell_type": "code",
   "execution_count": 0,
   "metadata": {
    "application/vnd.databricks.v1+cell": {
     "cellMetadata": {
      "byteLimit": 2048000,
      "rowLimit": 10000
     },
     "inputWidgets": {},
     "nuid": "7b4e589b-528d-4cd9-9b59-c35cf477fcb7",
     "showTitle": false,
     "tableResultSettingsMap": {},
     "title": ""
    }
   },
   "outputs": [],
   "source": [
    "%sql\n",
    "-- SELECT order_id, books, \n",
    "--   FILTER (books, i -> i.quantity >= 2) AS multiple_copies -- having quantity >= 2\n",
    "-- FROM orders;\n",
    "\n",
    "-- SELECT order_id, multiple_copies\n",
    "-- FROM (\n",
    "--   SELECT\n",
    "--     order_id,\n",
    "--     FILTER (books, i -> i.quantity >= 2) AS multiple_copies\n",
    "--   FROM orders)\n",
    "-- WHERE size(multiple_copies) > 0;\n",
    "\n",
    "-- SELECT\n",
    "--   order_id,\n",
    "--   books,\n",
    "--   TRANSFORM (\n",
    "--     books,\n",
    "--     b -> CAST(b.subtotal * 0.8 AS INT)\n",
    "--   ) AS subtotal_after_discount\n",
    "-- FROM orders;\n",
    "\n",
    "-- UDF\n",
    "-- CREATE OR REPLACE FUNCTION get_url(email STRING)\n",
    "-- RETURNS STRING\n",
    "-- RETURN concat(\"https://www.\", split(email, \"@\")[1]);\n",
    "\n",
    "-- SELECT email, get_url(email) domain FROM customers;\n",
    "-- DESCRIBE FUNCTION get_url;\n",
    "-- DESCRIBE FUNCTION EXTENDED get_url;\n",
    "-- DROP FUNCTION get_url;"
   ]
  },
  {
   "cell_type": "code",
   "execution_count": 0,
   "metadata": {
    "application/vnd.databricks.v1+cell": {
     "cellMetadata": {
      "byteLimit": 2048000,
      "rowLimit": 10000
     },
     "inputWidgets": {},
     "nuid": "1ab4c4df-cb56-4e11-a1d7-1032726b63d0",
     "showTitle": false,
     "tableResultSettingsMap": {},
     "title": ""
    }
   },
   "outputs": [],
   "source": [
    "%run ./Includes/Copy-Datasets"
   ]
  },
  {
   "cell_type": "code",
   "execution_count": 0,
   "metadata": {
    "application/vnd.databricks.v1+cell": {
     "cellMetadata": {
      "byteLimit": 2048000,
      "rowLimit": 10000
     },
     "inputWidgets": {},
     "nuid": "2a76b2c6-1d1b-4d75-a95e-a6099f283079",
     "showTitle": false,
     "tableResultSettingsMap": {},
     "title": ""
    }
   },
   "outputs": [],
   "source": [
    "(spark.readStream\n",
    "      .table(\"books\")\n",
    "      .createOrReplaceTempView(\"books_streaming_tmp_vw\")\n",
    ")\n"
   ]
  },
  {
   "cell_type": "code",
   "execution_count": 0,
   "metadata": {
    "application/vnd.databricks.v1+cell": {
     "cellMetadata": {
      "byteLimit": 2048000,
      "implicitDf": true,
      "rowLimit": 10000
     },
     "inputWidgets": {},
     "nuid": "9c00d523-ada2-4f90-bd1e-b355525712b1",
     "showTitle": false,
     "tableResultSettingsMap": {},
     "title": ""
    }
   },
   "outputs": [],
   "source": [
    "%sql\n",
    "-- SELECT * FROM books_streaming_tmp_vw;\n",
    "-- SELECT author, count(book_id) AS total_books FROM books_streaming_tmp_vw GROUP BY author;\n",
    "-- SELECT * FROM books_streaming_tmp_vw ORDER BY author; -- unsupported\n",
    "\n",
    "CREATE OR REPLACE TEMP VIEW author_counts_tmp_vw AS (\n",
    "  SELECT author, count(book_id) AS total_books\n",
    "  FROM books_streaming_tmp_vw\n",
    "  GROUP BY author\n",
    ");\n"
   ]
  },
  {
   "cell_type": "code",
   "execution_count": 0,
   "metadata": {
    "application/vnd.databricks.v1+cell": {
     "cellMetadata": {
      "byteLimit": 2048000,
      "rowLimit": 10000
     },
     "inputWidgets": {},
     "nuid": "af213545-7826-4ddc-8c67-bce890b5fc4a",
     "showTitle": false,
     "tableResultSettingsMap": {},
     "title": ""
    }
   },
   "outputs": [],
   "source": [
    "(spark.table(\"author_counts_tmp_vw\")                               \n",
    "      .writeStream  \n",
    "      .trigger(processingTime='4 seconds')\n",
    "      .outputMode(\"complete\")\n",
    "      .option(\"checkpointLocation\", \"dbfs:/mnt/demo/author_counts_checkpoint\")\n",
    "      .table(\"author_counts\")\n",
    ")"
   ]
  },
  {
   "cell_type": "code",
   "execution_count": 0,
   "metadata": {
    "application/vnd.databricks.v1+cell": {
     "cellMetadata": {
      "byteLimit": 2048000,
      "implicitDf": true,
      "rowLimit": 10000
     },
     "inputWidgets": {},
     "nuid": "ad94c5c9-654c-44c9-9eec-74402fcd3075",
     "showTitle": false,
     "tableResultSettingsMap": {},
     "title": ""
    }
   },
   "outputs": [],
   "source": [
    "%sql\n",
    "SELECT *\n",
    "FROM author_counts"
   ]
  },
  {
   "cell_type": "code",
   "execution_count": 0,
   "metadata": {
    "application/vnd.databricks.v1+cell": {
     "cellMetadata": {
      "byteLimit": 2048000,
      "implicitDf": true,
      "rowLimit": 10000
     },
     "inputWidgets": {},
     "nuid": "0efc945b-2108-4858-a498-fd53aa9d1890",
     "showTitle": false,
     "tableResultSettingsMap": {},
     "title": ""
    }
   },
   "outputs": [],
   "source": [
    "%sql\n",
    "INSERT INTO books\n",
    "values (\"B19\", \"Introduction to Modeling and Simulation\", \"Mark W. Spong\", \"Computer Science\", 25),\n",
    "        (\"B20\", \"Robot Modeling and Control\", \"Mark W. Spong\", \"Computer Science\", 30),\n",
    "        (\"B21\", \"Turing's Vision: The Birth of Computer Science\", \"Chris Bernhardt\", \"Computer Science\", 35)"
   ]
  },
  {
   "cell_type": "code",
   "execution_count": 0,
   "metadata": {
    "application/vnd.databricks.v1+cell": {
     "cellMetadata": {
      "byteLimit": 2048000,
      "implicitDf": true,
      "rowLimit": 10000
     },
     "inputWidgets": {},
     "nuid": "66259ede-2533-48de-a1c8-ba03ece4da88",
     "showTitle": false,
     "tableResultSettingsMap": {},
     "title": ""
    }
   },
   "outputs": [],
   "source": [
    "%sql\n",
    "INSERT INTO books\n",
    "values (\"B16\", \"Hands-On Deep Learning Algorithms with Python\", \"Sudharsan Ravichandiran\", \"Computer Science\", 25),\n",
    "        (\"B17\", \"Neural Network Methods in Natural Language Processing\", \"Yoav Goldberg\", \"Computer Science\", 30),\n",
    "        (\"B18\", \"Understanding digital signal processing\", \"Richard Lyons\", \"Computer Science\", 35)"
   ]
  },
  {
   "cell_type": "code",
   "execution_count": 0,
   "metadata": {
    "application/vnd.databricks.v1+cell": {
     "cellMetadata": {
      "byteLimit": 2048000,
      "rowLimit": 10000
     },
     "inputWidgets": {},
     "nuid": "d71d4e2d-3608-4074-871c-c29b62632468",
     "showTitle": false,
     "tableResultSettingsMap": {},
     "title": ""
    }
   },
   "outputs": [],
   "source": [
    "(spark.table(\"author_counts_tmp_vw\")                               \n",
    "      .writeStream           \n",
    "      .trigger(availableNow=True) # runs in batch mode. stops when done\n",
    "      .outputMode(\"complete\")\n",
    "      .option(\"checkpointLocation\", \"dbfs:/mnt/demo/author_counts_checkpoint\")\n",
    "      .table(\"author_counts\")\n",
    "      .awaitTermination()\n",
    ")"
   ]
  },
  {
   "cell_type": "code",
   "execution_count": 0,
   "metadata": {
    "application/vnd.databricks.v1+cell": {
     "cellMetadata": {
      "byteLimit": 2048000,
      "implicitDf": true,
      "rowLimit": 10000
     },
     "inputWidgets": {},
     "nuid": "4b68b920-f9f4-4e96-a14f-eb81a3928ea9",
     "showTitle": false,
     "tableResultSettingsMap": {},
     "title": ""
    }
   },
   "outputs": [],
   "source": [
    "%sql\n",
    "SELECT *\n",
    "FROM author_counts"
   ]
  },
  {
   "cell_type": "code",
   "execution_count": 0,
   "metadata": {
    "application/vnd.databricks.v1+cell": {
     "cellMetadata": {
      "byteLimit": 2048000,
      "rowLimit": 10000
     },
     "inputWidgets": {},
     "nuid": "a66fff75-3a37-4c19-8b55-9b44918e835a",
     "showTitle": false,
     "tableResultSettingsMap": {},
     "title": ""
    }
   },
   "outputs": [],
   "source": [
    "#### Auto Loader #####\n",
    "files = dbutils.fs.ls(f\"{dataset_bookstore}/orders-raw\")\n",
    "display(files)"
   ]
  },
  {
   "cell_type": "code",
   "execution_count": 0,
   "metadata": {
    "application/vnd.databricks.v1+cell": {
     "cellMetadata": {
      "byteLimit": 2048000,
      "rowLimit": 10000
     },
     "inputWidgets": {},
     "nuid": "80988e45-86f8-448b-be10-e17fd285a505",
     "showTitle": false,
     "tableResultSettingsMap": {},
     "title": ""
    }
   },
   "outputs": [],
   "source": [
    "(spark.readStream\n",
    "        .format(\"cloudFiles\")  ## Autoloader\n",
    "        .option(\"cloudFiles.format\", \"parquet\")\n",
    "        .option(\"cloudFiles.schemaLocation\", \"dbfs:/mnt/demo/orders_checkpoint\")\n",
    "        .load(f\"{dataset_bookstore}/orders-raw\")\n",
    "      .writeStream\n",
    "        .option(\"checkpointLocation\", \"dbfs:/mnt/demo/orders_checkpoint\")\n",
    "        .table(\"orders_updates\")\n",
    ")"
   ]
  },
  {
   "cell_type": "code",
   "execution_count": 0,
   "metadata": {
    "application/vnd.databricks.v1+cell": {
     "cellMetadata": {
      "byteLimit": 2048000,
      "implicitDf": true,
      "rowLimit": 10000
     },
     "inputWidgets": {},
     "nuid": "fdc97957-0226-4a25-b3ce-a465bb056c6d",
     "showTitle": false,
     "tableResultSettingsMap": {},
     "title": ""
    }
   },
   "outputs": [],
   "source": [
    "%sql\n",
    "-- SELECT * FROM orders_updates;\n",
    "-- SELECT count(*) FROM orders_updates;\n",
    "-- DESCRIBE HISTORY orders_updates;\n",
    "DROP TABLE orders_updates;"
   ]
  },
  {
   "cell_type": "code",
   "execution_count": 0,
   "metadata": {
    "application/vnd.databricks.v1+cell": {
     "cellMetadata": {
      "byteLimit": 2048000,
      "rowLimit": 10000
     },
     "inputWidgets": {},
     "nuid": "e5e6d9f5-4e00-42e1-b4f7-5202fbbdf1d1",
     "showTitle": false,
     "tableResultSettingsMap": {},
     "title": ""
    }
   },
   "outputs": [],
   "source": [
    "load_new_data()  ## run twice"
   ]
  },
  {
   "cell_type": "code",
   "execution_count": 0,
   "metadata": {
    "application/vnd.databricks.v1+cell": {
     "cellMetadata": {
      "byteLimit": 2048000,
      "rowLimit": 10000
     },
     "inputWidgets": {},
     "nuid": "7a243de4-7b78-4355-9ee5-fd176d52df01",
     "showTitle": false,
     "tableResultSettingsMap": {},
     "title": ""
    }
   },
   "outputs": [],
   "source": [
    "files = dbutils.fs.ls(f\"{dataset_bookstore}/orders-raw\")\n",
    "display(files)"
   ]
  },
  {
   "cell_type": "code",
   "execution_count": 0,
   "metadata": {
    "application/vnd.databricks.v1+cell": {
     "cellMetadata": {
      "byteLimit": 2048000,
      "rowLimit": 10000
     },
     "inputWidgets": {},
     "nuid": "d7908acd-7fd0-4a36-8efb-2841056174c8",
     "showTitle": false,
     "tableResultSettingsMap": {},
     "title": ""
    }
   },
   "outputs": [],
   "source": [
    "dbutils.fs.rm(\"dbfs:/mnt/demo/orders_checkpoint\", True)"
   ]
  },
  {
   "cell_type": "code",
   "execution_count": 0,
   "metadata": {
    "application/vnd.databricks.v1+cell": {
     "cellMetadata": {
      "byteLimit": 2048000,
      "rowLimit": 10000
     },
     "inputWidgets": {},
     "nuid": "2e3a7426-0a52-4f62-a7cb-93b29a282113",
     "showTitle": false,
     "tableResultSettingsMap": {},
     "title": ""
    }
   },
   "outputs": [],
   "source": [
    "#### Multi-Hop Architecture ######\n",
    "files = dbutils.fs.ls(f\"{dataset_bookstore}/orders-raw\")\n",
    "display(files)\n"
   ]
  },
  {
   "cell_type": "code",
   "execution_count": 0,
   "metadata": {
    "application/vnd.databricks.v1+cell": {
     "cellMetadata": {
      "byteLimit": 2048000,
      "rowLimit": 10000
     },
     "inputWidgets": {},
     "nuid": "907a12bc-9952-48ac-b459-e003d8580d1f",
     "showTitle": false,
     "tableResultSettingsMap": {},
     "title": ""
    }
   },
   "outputs": [],
   "source": [
    "(spark.readStream\n",
    "    .format(\"cloudFiles\")\n",
    "    .option(\"cloudFiles.format\", \"parquet\")\n",
    "    .option(\"cloudFiles.schemaLocation\", \"dbfs:/mnt/demo/checkpoints/orders_raw\")\n",
    "    .load(f\"{dataset_bookstore}/orders-raw\")\n",
    "    .createOrReplaceTempView(\"orders_raw_temp\"))"
   ]
  },
  {
   "cell_type": "code",
   "execution_count": 0,
   "metadata": {
    "application/vnd.databricks.v1+cell": {
     "cellMetadata": {
      "byteLimit": 2048000,
      "implicitDf": true,
      "rowLimit": 10000
     },
     "inputWidgets": {},
     "nuid": "f263e74b-fa1c-467d-b0f7-b1c959eca509",
     "showTitle": false,
     "tableResultSettingsMap": {},
     "title": ""
    }
   },
   "outputs": [],
   "source": [
    "%sql\n",
    "-- CREATE OR REPLACE TEMPORARY VIEW orders_tmp AS (\n",
    "--   SELECT *, current_timestamp() arrival_time, input_file_name() source_file\n",
    "--   FROM orders_raw_temp\n",
    "-- );\n",
    "\n",
    "-- SELECT * FROM orders_tmp;"
   ]
  },
  {
   "cell_type": "code",
   "execution_count": 0,
   "metadata": {
    "application/vnd.databricks.v1+cell": {
     "cellMetadata": {
      "byteLimit": 2048000,
      "rowLimit": 10000
     },
     "inputWidgets": {},
     "nuid": "069de112-8e45-4fa3-b1ce-17ecb96681b7",
     "showTitle": false,
     "tableResultSettingsMap": {},
     "title": ""
    }
   },
   "outputs": [],
   "source": [
    "## Creating Bronze Table\n",
    "\n",
    "(spark.table(\"orders_tmp\")\n",
    "      .writeStream\n",
    "      .format(\"delta\")\n",
    "      .option(\"checkpointLocation\", \"dbfs:/mnt/demo/checkpoints/orders_bronze\")\n",
    "      .outputMode(\"append\")\n",
    "      .table(\"orders_bronze\"))"
   ]
  },
  {
   "cell_type": "code",
   "execution_count": 0,
   "metadata": {
    "application/vnd.databricks.v1+cell": {
     "cellMetadata": {
      "byteLimit": 2048000,
      "implicitDf": true,
      "rowLimit": 10000
     },
     "inputWidgets": {},
     "nuid": "aa2792ff-287d-453b-a338-44775b4ec221",
     "showTitle": false,
     "tableResultSettingsMap": {},
     "title": ""
    }
   },
   "outputs": [],
   "source": [
    "%sql\n",
    "SELECT count(*) FROM orders_bronze;"
   ]
  },
  {
   "cell_type": "code",
   "execution_count": 0,
   "metadata": {
    "application/vnd.databricks.v1+cell": {
     "cellMetadata": {
      "byteLimit": 2048000,
      "rowLimit": 10000
     },
     "inputWidgets": {},
     "nuid": "35623be6-0182-46d6-8242-03a0ec7966e9",
     "showTitle": false,
     "tableResultSettingsMap": {},
     "title": ""
    }
   },
   "outputs": [],
   "source": [
    "load_new_data()"
   ]
  },
  {
   "cell_type": "code",
   "execution_count": 0,
   "metadata": {
    "application/vnd.databricks.v1+cell": {
     "cellMetadata": {
      "byteLimit": 2048000,
      "rowLimit": 10000
     },
     "inputWidgets": {},
     "nuid": "7541eb36-b0aa-4451-86cf-51615da5d30e",
     "showTitle": false,
     "tableResultSettingsMap": {},
     "title": ""
    }
   },
   "outputs": [],
   "source": [
    "############ Creating Static Lookup Table\n",
    "(spark.read\n",
    "      .format(\"json\")\n",
    "      .load(f\"{dataset_bookstore}/customers-json\")\n",
    "      .createOrReplaceTempView(\"customers_lookup\"))\n"
   ]
  },
  {
   "cell_type": "code",
   "execution_count": 0,
   "metadata": {
    "application/vnd.databricks.v1+cell": {
     "cellMetadata": {
      "byteLimit": 2048000,
      "implicitDf": true,
      "rowLimit": 10000
     },
     "inputWidgets": {},
     "nuid": "fdfcb79d-2d1d-4310-adde-982b0870673f",
     "showTitle": false,
     "tableResultSettingsMap": {},
     "title": ""
    }
   },
   "outputs": [],
   "source": [
    "%sql\n",
    "SELECT * FROM customers_lookup"
   ]
  },
  {
   "cell_type": "code",
   "execution_count": 0,
   "metadata": {
    "application/vnd.databricks.v1+cell": {
     "cellMetadata": {
      "byteLimit": 2048000,
      "rowLimit": 10000
     },
     "inputWidgets": {},
     "nuid": "f2e21ccd-12bf-45db-b9e5-5b73eb6124c1",
     "showTitle": false,
     "tableResultSettingsMap": {},
     "title": ""
    }
   },
   "outputs": [],
   "source": [
    "(spark.readStream\n",
    "  .table(\"orders_bronze\")\n",
    "  .createOrReplaceTempView(\"orders_bronze_tmp\"))"
   ]
  },
  {
   "cell_type": "code",
   "execution_count": 0,
   "metadata": {
    "application/vnd.databricks.v1+cell": {
     "cellMetadata": {
      "byteLimit": 2048000,
      "implicitDf": true,
      "rowLimit": 10000
     },
     "inputWidgets": {},
     "nuid": "dda86acf-b02d-4d88-b24e-99b7d3bad0ee",
     "showTitle": false,
     "tableResultSettingsMap": {},
     "title": ""
    }
   },
   "outputs": [],
   "source": [
    "%sql\n",
    "CREATE OR REPLACE TEMPORARY VIEW orders_enriched_tmp AS (\n",
    "  SELECT order_id, quantity, o.customer_id, c.profile:first_name as f_name, c.profile:last_name as l_name,\n",
    "         cast(from_unixtime(order_timestamp, 'yyyy-MM-dd HH:mm:ss') AS timestamp) order_timestamp, books\n",
    "  FROM orders_bronze_tmp o\n",
    "  INNER JOIN customers_lookup c\n",
    "  ON o.customer_id = c.customer_id\n",
    "  WHERE quantity > 0)"
   ]
  },
  {
   "cell_type": "code",
   "execution_count": 0,
   "metadata": {
    "application/vnd.databricks.v1+cell": {
     "cellMetadata": {
      "byteLimit": 2048000,
      "rowLimit": 10000
     },
     "inputWidgets": {},
     "nuid": "9da9d80f-17f1-4810-84cb-ac285d739564",
     "showTitle": false,
     "tableResultSettingsMap": {},
     "title": ""
    }
   },
   "outputs": [],
   "source": [
    "(spark.table(\"orders_enriched_tmp\")\n",
    "      .writeStream\n",
    "      .format(\"delta\")\n",
    "      .option(\"checkpointLocation\", \"dbfs:/mnt/demo/checkpoints/orders_silver\")\n",
    "      .outputMode(\"append\")\n",
    "      .table(\"orders_silver\"))"
   ]
  },
  {
   "cell_type": "code",
   "execution_count": 0,
   "metadata": {
    "application/vnd.databricks.v1+cell": {
     "cellMetadata": {
      "byteLimit": 2048000,
      "implicitDf": true,
      "rowLimit": 10000
     },
     "inputWidgets": {},
     "nuid": "d2f7e58a-6ef1-46f8-9a78-57b123e99305",
     "showTitle": false,
     "tableResultSettingsMap": {},
     "title": ""
    }
   },
   "outputs": [],
   "source": [
    "%sql\n",
    "-- SELECT * FROM orders_silver;\n",
    "SELECT COUNT(*) FROM orders_silver;\n"
   ]
  },
  {
   "cell_type": "code",
   "execution_count": 0,
   "metadata": {
    "application/vnd.databricks.v1+cell": {
     "cellMetadata": {
      "byteLimit": 2048000,
      "rowLimit": 10000
     },
     "inputWidgets": {},
     "nuid": "0f4bb577-5163-4214-95b2-dad602ef3255",
     "showTitle": false,
     "tableResultSettingsMap": {},
     "title": ""
    }
   },
   "outputs": [],
   "source": [
    "load_new_data()"
   ]
  },
  {
   "cell_type": "code",
   "execution_count": 0,
   "metadata": {
    "application/vnd.databricks.v1+cell": {
     "cellMetadata": {
      "byteLimit": 2048000,
      "rowLimit": 10000
     },
     "inputWidgets": {},
     "nuid": "90d4ba3b-6d1b-44e7-84d1-ca38ccc6a6d8",
     "showTitle": false,
     "tableResultSettingsMap": {},
     "title": ""
    }
   },
   "outputs": [],
   "source": [
    "# Creating Gold Table\n",
    "\n",
    "(spark.readStream\n",
    "  .table(\"orders_silver\")\n",
    "  .createOrReplaceTempView(\"orders_silver_tmp\"))"
   ]
  },
  {
   "cell_type": "code",
   "execution_count": 0,
   "metadata": {
    "application/vnd.databricks.v1+cell": {
     "cellMetadata": {
      "byteLimit": 2048000,
      "implicitDf": true,
      "rowLimit": 10000
     },
     "inputWidgets": {},
     "nuid": "b76a8da8-1b8e-44e0-953c-13c9e8604051",
     "showTitle": false,
     "tableResultSettingsMap": {},
     "title": ""
    }
   },
   "outputs": [],
   "source": [
    "%sql\n",
    "CREATE OR REPLACE TEMP VIEW daily_customer_books_tmp AS (\n",
    "  SELECT customer_id, f_name, l_name, date_trunc(\"DD\", order_timestamp) order_date, sum(quantity) books_counts\n",
    "  FROM orders_silver_tmp\n",
    "  GROUP BY customer_id, f_name, l_name, date_trunc(\"DD\", order_timestamp)\n",
    "  )"
   ]
  },
  {
   "cell_type": "code",
   "execution_count": 0,
   "metadata": {
    "application/vnd.databricks.v1+cell": {
     "cellMetadata": {
      "byteLimit": 2048000,
      "rowLimit": 10000
     },
     "inputWidgets": {},
     "nuid": "421a00fa-8d56-453a-bda8-b1bb1ed62683",
     "showTitle": false,
     "tableResultSettingsMap": {},
     "title": ""
    }
   },
   "outputs": [],
   "source": [
    "(spark.table(\"daily_customer_books_tmp\")\n",
    "      .writeStream\n",
    "      .format(\"delta\")\n",
    "      .outputMode(\"complete\")  # or, append\n",
    "      .option(\"checkpointLocation\", \"dbfs:/mnt/demo/checkpoints/daily_customer_books\")\n",
    "      .trigger(availableNow=True) ## micro batches\n",
    "      .table(\"daily_customer_books\"))"
   ]
  },
  {
   "cell_type": "code",
   "execution_count": 0,
   "metadata": {
    "application/vnd.databricks.v1+cell": {
     "cellMetadata": {
      "byteLimit": 2048000,
      "implicitDf": true,
      "rowLimit": 10000
     },
     "inputWidgets": {},
     "nuid": "77073767-84ec-4060-9263-c81788e9bb20",
     "showTitle": false,
     "tableResultSettingsMap": {},
     "title": ""
    }
   },
   "outputs": [],
   "source": [
    "%sql\n",
    "SELECT * FROM daily_customer_books;"
   ]
  },
  {
   "cell_type": "code",
   "execution_count": 0,
   "metadata": {
    "application/vnd.databricks.v1+cell": {
     "cellMetadata": {
      "byteLimit": 2048000,
      "rowLimit": 10000
     },
     "inputWidgets": {},
     "nuid": "84e32db5-5ace-481d-8a40-b784d05256bb",
     "showTitle": false,
     "tableResultSettingsMap": {},
     "title": ""
    }
   },
   "outputs": [],
   "source": [
    "load_new_data()"
   ]
  },
  {
   "cell_type": "code",
   "execution_count": 0,
   "metadata": {
    "application/vnd.databricks.v1+cell": {
     "cellMetadata": {
      "byteLimit": 2048000,
      "rowLimit": 10000
     },
     "inputWidgets": {},
     "nuid": "dfea9941-9344-4f6c-a49b-b8959d6d8028",
     "showTitle": false,
     "tableResultSettingsMap": {},
     "title": ""
    }
   },
   "outputs": [],
   "source": [
    "for s in spark.streams.active:\n",
    "    print(\"Stopping stream: \" + s.id)\n",
    "    s.stop()\n",
    "    s.awaitTermination()"
   ]
  },
  {
   "cell_type": "code",
   "execution_count": 0,
   "metadata": {
    "application/vnd.databricks.v1+cell": {
     "cellMetadata": {},
     "inputWidgets": {},
     "nuid": "2125b4f8-daed-4a34-8d73-dd70a62b4d61",
     "showTitle": false,
     "tableResultSettingsMap": {},
     "title": ""
    }
   },
   "outputs": [],
   "source": []
  }
 ],
 "metadata": {
  "application/vnd.databricks.v1+notebook": {
   "computePreferences": null,
   "dashboards": [],
   "environmentMetadata": {
    "base_environment": "",
    "environment_version": "2"
   },
   "inputWidgetPreferences": null,
   "language": "python",
   "notebookMetadata": {
    "mostRecentlyExecutedCommandWithImplicitDF": {
     "commandId": 4845306758250978,
     "dataframes": [
      "_sqldf"
     ]
    },
    "pythonIndentUnit": 4
   },
   "notebookName": "Notebook Basics",
   "widgets": {}
  },
  "language_info": {
   "name": "python"
  }
 },
 "nbformat": 4,
 "nbformat_minor": 0
}
