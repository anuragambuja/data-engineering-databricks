{
 "cells": [
  {
   "cell_type": "code",
   "execution_count": 0,
   "metadata": {
    "application/vnd.databricks.v1+cell": {
     "cellMetadata": {
      "byteLimit": 2048000,
      "rowLimit": 10000
     },
     "inputWidgets": {},
     "nuid": "c22795b2-066d-4420-84fa-6ac1c1aafe0a",
     "showTitle": false,
     "tableResultSettingsMap": {},
     "title": ""
    }
   },
   "outputs": [],
   "source": [
    "-- Magic Commands\n",
    "\n",
    "-- %python\n",
    "-- %sql\n",
    "-- %md\n",
    "-- %md-sandbox\n",
    "-- %run ./Includes/Setup\n",
    "-- %fs ls 'databricks-datasets' #\n",
    "-- files = dbutils.fs.ls('/databricks-datasets')\n",
    "-- print(files)\n",
    "-- display(files)\n",
    "-- dbutils.help() \n",
    "-- dbutils.fs.help()"
   ]
  },
  {
   "cell_type": "code",
   "execution_count": 0,
   "metadata": {
    "application/vnd.databricks.v1+cell": {
     "cellMetadata": {},
     "inputWidgets": {},
     "nuid": "018fa003-56f8-4b86-873f-13d1302a4d20",
     "showTitle": false,
     "tableResultSettingsMap": {},
     "title": ""
    }
   },
   "outputs": [],
   "source": [
    "-- USE CATALOG hive_metastore;\n",
    "\n",
    "-- DESCRIBE DETAIL table_name;\n",
    "-- DESCRIBE HISTORY table_name;\n",
    "-- DESCRIBE DATABASE EXTENDED new_default;\n",
    "-- RESTORE TABLE employees TO VERSION AS OF 5;\n",
    "-- OPTIMIZE employees ZORDER BY id;\n",
    "-- VACUUM employees [RETAIN 0 HOURS];\n",
    "\n",
    "-- %fs ls 'dbfs:/user/hive/warehouse/employees/_delta_log'\n",
    "-- %fs head 'dbfs:/user/hive/warehouse/employees/_delta_log/00000000000000000005.json'\n",
    "-- SET spark.databricks.delta.retentionDurationCheck.enabled = false;"
   ]
  },
  {
   "cell_type": "code",
   "execution_count": 0,
   "metadata": {
    "application/vnd.databricks.v1+cell": {
     "cellMetadata": {
      "byteLimit": 2048000,
      "implicitDf": true,
      "rowLimit": 10000
     },
     "inputWidgets": {},
     "nuid": "f8cd94e0-f52f-41ad-8594-8b845d7190dc",
     "showTitle": false,
     "tableResultSettingsMap": {},
     "title": ""
    }
   },
   "outputs": [],
   "source": [
    "CREATE TABLE employees\n",
    "  (id INT, name STRING, salary DOUBLE);\n",
    "  -- USING delta  # default table type\n",
    "\n",
    "INSERT INTO employees\n",
    "VALUES \n",
    "  (1, \"Adam\", 3500.0),\n",
    "  (2, \"Sarah\", 4020.5);\n",
    "\n",
    "INSERT INTO employees\n",
    "VALUES\n",
    "  (3, \"John\", 2999.3),\n",
    "  (4, \"Thomas\", 4000.3);\n",
    "\n",
    "INSERT INTO employees\n",
    "VALUES\n",
    "  (5, \"Anna\", 2500.0);\n",
    "\n",
    "INSERT INTO employees\n",
    "VALUES\n",
    "  (6, \"Kim\", 6200.3);\n",
    "\n",
    "SELECT * FROM employees;\n",
    "\n",
    "DESCRIBE DETAIL employees;\n",
    "-- %fs ls 'dbfs:/user/hive/warehouse/employees'\n",
    "\n",
    "UPDATE employees \n",
    "SET salary = salary + 100\n",
    "WHERE name LIKE \"A%\";\n",
    "\n",
    "DESCRIBE HISTORY employees;\n",
    "--  %fs ls 'dbfs:/user/hive/warehouse/employees/_delta_log'\n",
    "-- %fs head 'dbfs:/user/hive/warehouse/employees/_delta_log/00000000000000000005.json'"
   ]
  },
  {
   "cell_type": "code",
   "execution_count": 0,
   "metadata": {
    "application/vnd.databricks.v1+cell": {
     "cellMetadata": {
      "byteLimit": 2048000,
      "rowLimit": 10000
     },
     "inputWidgets": {},
     "nuid": "63544197-873d-47e0-af08-d560b48c56e7",
     "showTitle": false,
     "tableResultSettingsMap": {},
     "title": ""
    }
   },
   "outputs": [],
   "source": [
    "-- SELECT * FROM employees VERSION AS OF 4;\n",
    "-- SELECT * FROM employees@v4\n",
    "-- DELETE FROM employees;\n",
    "-- SELECT * FROM employees;\n",
    "-- RESTORE TABLE employees TO VERSION AS OF 5;\n",
    "-- SELECT * FROM employees;\n",
    "-- DESCRIBE HISTORY employees\n",
    "-- DESCRIBE DETAIL employees; \n",
    "-- OPTIMIZE employees ZORDER BY id;\n",
    "-- DESCRIBE DETAIL employees;\n",
    "-- DESCRIBE HISTORY employees;\n"
   ]
  },
  {
   "cell_type": "code",
   "execution_count": 0,
   "metadata": {
    "application/vnd.databricks.v1+cell": {
     "cellMetadata": {
      "byteLimit": 2048000,
      "rowLimit": 10000
     },
     "inputWidgets": {},
     "nuid": "f86f4f83-4701-48fa-9a46-2d5c68e65c75",
     "showTitle": false,
     "tableResultSettingsMap": {},
     "title": ""
    }
   },
   "outputs": [],
   "source": [
    "-- %fs ls 'dbfs:/user/hive/warehouse/employees'\n",
    "-- VACUUM employees;\n",
    "-- VACUUM employees RETAIN 0 HOURS; -- throws error as the retenstion is 7 by default\n",
    "\n",
    "-- %fs ls 'dbfs:/user/hive/warehouse/employees'\n",
    "-- SET spark.databricks.delta.retentionDurationCheck.enabled = false;\n",
    "\n",
    "-- VACUUM employees RETAIN 0 HOURS\n",
    "-- SELECT * FROM employees@v1\n",
    "-- DROP TABLE employees;\n",
    "-- SELECT * FROM employees\n",
    "--  %fs ls 'dbfs:/user/hive/warehouse/employees'\n"
   ]
  },
  {
   "cell_type": "code",
   "execution_count": 0,
   "metadata": {
    "application/vnd.databricks.v1+cell": {
     "cellMetadata": {
      "byteLimit": 2048000,
      "rowLimit": 10000
     },
     "inputWidgets": {},
     "nuid": "98b44a9a-786c-4e75-bc12-4cb019d5c9c5",
     "showTitle": false,
     "tableResultSettingsMap": {},
     "title": ""
    }
   },
   "outputs": [],
   "source": [
    "USE CATALOG hive_metastore;\n",
    "\n",
    "-- CREATE TABLE managed_default\n",
    "--   (width INT, length INT, height INT);\n",
    "\n",
    "-- INSERT INTO managed_default VALUES (3 INT, 2 INT, 1 INT);\n",
    "\n",
    "-- DESCRIBE EXTENDED managed_default;\n",
    "\n",
    "CREATE TABLE external_default\n",
    "  (width INT, length INT, height INT)\n",
    "LOCATION 'dbfs:/mnt/demo/external_default';\n",
    "  \n",
    "INSERT INTO external_default\n",
    "VALUES (3 INT, 2 INT, 1 INT);\n",
    "\n",
    "\n",
    "-- DROP TABLE managed_default;\n",
    "-- %fs ls 'dbfs:/user/hive/warehouse/managed_default'\n",
    "\n",
    "-- DROP TABLE external_default;\n",
    "-- %fs ls 'dbfs:/mnt/demo/external_default'"
   ]
  },
  {
   "cell_type": "code",
   "execution_count": 0,
   "metadata": {
    "application/vnd.databricks.v1+cell": {
     "cellMetadata": {
      "byteLimit": 2048000,
      "rowLimit": 10000
     },
     "inputWidgets": {},
     "nuid": "547c4e29-5928-4c7e-bea3-3b40cf434e3a",
     "showTitle": false,
     "tableResultSettingsMap": {},
     "title": ""
    }
   },
   "outputs": [],
   "source": [
    "-- CREATE SCHEMA new_default;\n",
    "-- DESCRIBE DATABASE EXTENDED new_default;\n",
    "\n",
    "-- USE new_default;\n",
    "\n",
    "-- CREATE TABLE managed_new_default\n",
    "--   (width INT, length INT, height INT);\n",
    "  \n",
    "-- INSERT INTO managed_new_default VALUES (3 INT, 2 INT, 1 INT);\n",
    "\n",
    "-- CREATE TABLE external_new_default\n",
    "--   (width INT, length INT, height INT)\n",
    "-- LOCATION 'dbfs:/mnt/demo/external_new_default';\n",
    "  \n",
    "-- INSERT INTO external_new_default VALUES (3 INT, 2 INT, 1 INT);\n",
    "\n",
    "DESCRIBE EXTENDED managed_new_default;\n",
    "DESCRIBE EXTENDED external_new_default;\n",
    "\n",
    "-- SELECT * FROM external_new_default;\n",
    "\n",
    "-- DROP TABLE managed_new_default;\n",
    "-- DROP TABLE external_new_default;\n",
    "\n",
    "-- %fs ls 'dbfs:/user/hive/warehouse/new_default.db/managed_new_default'\n",
    "-- %fs ls 'dbfs:/mnt/demo/external_new_default'"
   ]
  },
  {
   "cell_type": "code",
   "execution_count": 0,
   "metadata": {
    "application/vnd.databricks.v1+cell": {
     "cellMetadata": {
      "byteLimit": 2048000,
      "rowLimit": 10000
     },
     "inputWidgets": {},
     "nuid": "c15d5b5f-ae97-42ed-be04-72816556eeb4",
     "showTitle": false,
     "tableResultSettingsMap": {},
     "title": ""
    }
   },
   "outputs": [],
   "source": [
    "-- CREATE SCHEMA custom \n",
    "-- LOCATION 'dbfs:/Shared/schemas/custom.db';\n",
    "\n",
    "-- DESCRIBE DATABASE EXTENDED custom;\n",
    "\n",
    "-- USE custom;\n",
    "\n",
    "-- CREATE TABLE managed_custom\n",
    "--   (width INT, length INT, height INT);\n",
    "  \n",
    "-- INSERT INTO managed_custom\n",
    "-- VALUES (3 INT, 2 INT, 1 INT);\n",
    "\n",
    "-- CREATE TABLE external_custom\n",
    "--   (width INT, length INT, height INT)\n",
    "-- LOCATION 'dbfs:/mnt/demo/external_custom';\n",
    "  \n",
    "-- INSERT INTO external_custom\n",
    "-- VALUES (3 INT, 2 INT, 1 INT);\n",
    "\n",
    "-- DESCRIBE EXTENDED managed_custom;\n",
    "-- DESCRIBE EXTENDED external_custom;\n",
    "\n",
    "-- DROP TABLE managed_custom;\n",
    "-- DROP TABLE external_custom;\n",
    "\n",
    "-- %fs ls 'dbfs:/Shared/schemas/custom.db/managed_custom'\n",
    "-- %fs ls 'dbfs:/mnt/demo/external_custom'\n"
   ]
  },
  {
   "cell_type": "code",
   "execution_count": 0,
   "metadata": {
    "application/vnd.databricks.v1+cell": {
     "cellMetadata": {
      "byteLimit": 2048000,
      "rowLimit": 10000
     },
     "inputWidgets": {},
     "nuid": "28306141-4ba9-4749-a9a3-cfcd86b1fcda",
     "showTitle": false,
     "tableResultSettingsMap": {},
     "title": ""
    }
   },
   "outputs": [],
   "source": [
    "-- ### 1. VIEWS  ####\n",
    "\n",
    "USE CATALOG hive_metastore;\n",
    "\n",
    "CREATE TABLE IF NOT EXISTS smartphones\n",
    "(id INT, name STRING, brand STRING, year INT);\n",
    "\n",
    "INSERT INTO smartphones\n",
    "VALUES (1, 'iPhone 14', 'Apple', 2022),\n",
    "      (2, 'iPhone 13', 'Apple', 2021),\n",
    "      (3, 'iPhone 6', 'Apple', 2014),\n",
    "      (4, 'iPad Air', 'Apple', 2013),\n",
    "      (5, 'Galaxy S22', 'Samsung', 2022),\n",
    "      (6, 'Galaxy Z Fold', 'Samsung', 2022),\n",
    "      (7, 'Galaxy S9', 'Samsung', 2016),\n",
    "      (8, '12 Pro', 'Xiaomi', 2022),\n",
    "      (9, 'Redmi 11T Pro', 'Xiaomi', 2022),\n",
    "      (10, 'Redmi Note 11', 'Xiaomi', 2021);\n",
    "\n",
    "-- SHOW TABLES;\n",
    "\n",
    "CREATE VIEW view_apple_phones\n",
    "AS  SELECT * \n",
    "    FROM smartphones \n",
    "    WHERE brand = 'Apple';\n",
    "\n",
    "SELECT * FROM view_apple_phones;\n",
    "\n",
    "CREATE TEMP VIEW temp_view_phones_brands\n",
    "AS  SELECT DISTINCT brand\n",
    "    FROM smartphones;\n",
    "\n",
    "SELECT * FROM temp_view_phones_brands;\n",
    "\n",
    "-- CREATE GLOBAL TEMP VIEW global_temp_view_latest_phones\n",
    "-- AS SELECT * FROM smartphones\n",
    "--     WHERE year > 2020\n",
    "--     ORDER BY year DESC;\n",
    "\n",
    "SELECT * FROM global_temp.global_temp_view_latest_phones;\n",
    "\n",
    "-- SHOW TABLES;\n",
    "SHOW TABLES IN global_temp;\n",
    "\n",
    "DROP TABLE smartphones;\n",
    "DROP VIEW view_apple_phones;\n",
    "DROP VIEW global_temp.global_temp_view_latest_phones;\n"
   ]
  },
  {
   "cell_type": "code",
   "execution_count": 0,
   "metadata": {
    "application/vnd.databricks.v1+cell": {
     "cellMetadata": {},
     "inputWidgets": {},
     "nuid": "b8700747-2c53-48a2-8f7d-01f8b092ba13",
     "showTitle": false,
     "tableResultSettingsMap": {},
     "title": ""
    }
   },
   "outputs": [],
   "source": [
    "-- 2. ###   ###"
   ]
  }
 ],
 "metadata": {
  "application/vnd.databricks.v1+notebook": {
   "computePreferences": null,
   "dashboards": [],
   "environmentMetadata": {
    "base_environment": "",
    "environment_version": "2"
   },
   "inputWidgetPreferences": null,
   "language": "sql",
   "notebookMetadata": {
    "mostRecentlyExecutedCommandWithImplicitDF": {
     "commandId": 6482387776402500,
     "dataframes": [
      "_sqldf"
     ]
    },
    "pythonIndentUnit": 4
   },
   "notebookName": "Notebook Basics",
   "widgets": {}
  },
  "language_info": {
   "name": "sql"
  }
 },
 "nbformat": 4,
 "nbformat_minor": 0
}
